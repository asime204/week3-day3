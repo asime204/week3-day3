{
 "cells": [
  {
   "attachments": {},
   "cell_type": "markdown",
   "metadata": {},
   "source": [
    "# Algorithms, Binary Search & Merge Sort"
   ]
  },
  {
   "attachments": {},
   "cell_type": "markdown",
   "metadata": {},
   "source": [
    "## Tasks Today:\n",
    " \n",
    "1) <b>In-Place Algorithms</b> <br>\n",
    " &nbsp;&nbsp;&nbsp;&nbsp; a) Syntax <br>\n",
    " &nbsp;&nbsp;&nbsp;&nbsp; a) Out of Place Algorithm <br>\n",
    " &nbsp;&nbsp;&nbsp;&nbsp; b) In-Class Exercise #1 <br>\n",
    "2) <b>Two Pointers</b> <br>\n",
    "3) <b>Merge Sort</b> <br>\n",
    " &nbsp;&nbsp;&nbsp;&nbsp; a) Video on Algorithms <br>\n",
    " &nbsp;&nbsp;&nbsp;&nbsp; b) How it Works <br>\n",
    "4) <b>Exercises</b> <br>\n",
    " &nbsp;&nbsp;&nbsp;&nbsp; a) Exercise #1 - Reverse a List in Place Using an In-Place Algorithm <br>\n",
    " &nbsp;&nbsp;&nbsp;&nbsp; b) Exercise #2 - Find Distinct Words <br>\n",
    " &nbsp;&nbsp;&nbsp;&nbsp; c) Exercise #3 - Write a program to implement a Linear Search Algorithm. <br>"
   ]
  },
  {
   "cell_type": "markdown",
   "metadata": {},
   "source": [
    "## In-Place Algorithms"
   ]
  },
  {
   "cell_type": "markdown",
   "metadata": {},
   "source": [
    "#### Syntax"
   ]
  },
  {
   "cell_type": "code",
   "execution_count": 4,
   "metadata": {},
   "outputs": [
    {
     "name": "stdout",
     "output_type": "stream",
     "text": [
      "[5, 1, 10, 15, 20, 25]\n"
     ]
    }
   ],
   "source": [
    "def swap(nums, index1, index2):\n",
    "    nums[index1], nums[index2] = nums[index2], nums[index1]\n",
    "    return nums\n",
    "list1= [1, 5, 10, 15, 20, 25]\n",
    "output = swap(list1, 0, 1) \n",
    "print(output)"
   ]
  },
  {
   "cell_type": "markdown",
   "metadata": {},
   "source": [
    "#### Out of Place Algorithm"
   ]
  },
  {
   "cell_type": "code",
   "execution_count": null,
   "metadata": {},
   "outputs": [],
   "source": [
    "def swap(nums, index1, index2):\n",
    "    copy = nums[:]\n",
    "    copy[index1], copy[index2] = copy[index2], copy[index1]\n",
    "    return copy\n",
    "\n",
    "list1= [1, 5, 10, 15, 20, 25]\n"
   ]
  },
  {
   "cell_type": "markdown",
   "metadata": {},
   "source": [
    "#### In-Class Exercise #1 <br>\n",
    "<p>Write a function that takes in four arguments (list, index1, index2, index3), and swaps those three positions in the list passed in.</p>"
   ]
  },
  {
   "cell_type": "code",
   "execution_count": 2,
   "metadata": {},
   "outputs": [
    {
     "name": "stdout",
     "output_type": "stream",
     "text": [
      "[3, 10, 4, 8, 4, 2, 6]\n"
     ]
    }
   ],
   "source": [
    "def swap(nums, index1, index2, index3):\n",
    "    nums[index1], nums[index2], nums[index3] = nums[index3], nums[index1], nums[index2]\n",
    "    return nums\n",
    "\n",
    "l_1 = [10, 4, 3, 8, 4, 2, 6]\n",
    "output = swap(l_1, 0, 1, 2)\n",
    "print(output)"
   ]
  },
  {
   "cell_type": "markdown",
   "metadata": {},
   "source": [
    "## Two Pointers"
   ]
  },
  {
   "cell_type": "markdown",
   "metadata": {},
   "source": [
    "#### Syntax"
   ]
  },
  {
   "cell_type": "code",
   "execution_count": 5,
   "metadata": {},
   "outputs": [
    {
     "name": "stdout",
     "output_type": "stream",
     "text": [
      "[9, 8, 7, 6, 5, 4, 3, 2, 1]\n"
     ]
    }
   ],
   "source": [
    "# Returns the reverse of the list\n",
    "\n",
    "def twoPointers(nums):\n",
    "    left = 0\n",
    "    right = len(nums)-1\n",
    "    while left <= right:\n",
    "        nums[left], nums[right] = nums[right], nums[left]\n",
    "        left += 1\n",
    "        right -= 1\n",
    "    return None\n",
    "\n",
    "list2 = [1,2,3,4,5,6,7,8,9]\n",
    "twoPointers(list2)\n",
    "print(list2)"
   ]
  },
  {
   "cell_type": "markdown",
   "metadata": {},
   "source": [
    "#### Video of Algorithms <br>\n",
    "<p>Watch the video about algorithms.</p>\n",
    "\n",
    "https://www.youtube.com/watch?v=Q9HjeFD62Uk\n",
    "\n",
    "https://www.youtube.com/watch?v=kPRA0W1kECg\n",
    "\n",
    "https://www.youtube.com/watch?v=ZZuD6iUe3Pc"
   ]
  },
  {
   "cell_type": "markdown",
   "metadata": {},
   "source": [
    "# Sorting Algorithms"
   ]
  },
  {
   "attachments": {},
   "cell_type": "markdown",
   "metadata": {},
   "source": [
    "#### Bubble Sort\n",
    "\n",
    "Worst Case: O(n^2) Time - O(1) Space"
   ]
  },
  {
   "cell_type": "code",
   "execution_count": 9,
   "metadata": {},
   "outputs": [
    {
     "name": "stdout",
     "output_type": "stream",
     "text": [
      "4\n",
      "[11, 22, 33, 44, 66, 77, 88]\n",
      "1\n",
      "[1, 2, 3, 4, 5, 6, 7, 8, 9]\n"
     ]
    }
   ],
   "source": [
    "def swap(nums, index1, index2):\n",
    "    nums[index1], nums[index2] = nums[index2], nums[index1]\n",
    "\n",
    "def bubbleSort(nums):\n",
    "    isSorted = False\n",
    "    count = 0\n",
    "    while not isSorted:\n",
    "        isSorted = True\n",
    "        for i in range(len(nums)-1):\n",
    "            if nums[i]>nums[i+1]:\n",
    "                swap(nums, i, i+1)\n",
    "                isSorted = False\n",
    "            \n",
    "        count += 1\n",
    "    print(count)\n",
    "\n",
    "nums =[66,22,33,11,77,88,44]\n",
    "nums2 =[1,2,3,4,5,6,7,8,9]\n",
    "\n",
    "bubbleSort(nums)\n",
    "print(nums)\n",
    "\n",
    "bubbleSort(nums2)\n",
    "print(nums2)"
   ]
  },
  {
   "cell_type": "markdown",
   "metadata": {},
   "source": [
    "##### Insertion Sort\n",
    "\n",
    "Worst Case: O(n^2) time - O(1)space"
   ]
  },
  {
   "cell_type": "code",
   "execution_count": 10,
   "metadata": {},
   "outputs": [
    {
     "name": "stdout",
     "output_type": "stream",
     "text": [
      "[11, 22, 33, 44, 66, 77, 88]\n",
      "[1, 2, 3, 4, 5, 6, 7, 8, 9]\n"
     ]
    }
   ],
   "source": [
    "def insertionSort(nums):\n",
    "    for i in range(len(nums)):\n",
    "        j = i\n",
    "        while j > 0 and nums[j] < nums[j-1]:\n",
    "            swap(nums, j, j-1)\n",
    "            j-=1\n",
    "\n",
    "nums =[66,22,33,11,77,88,44]\n",
    "nums2 =[1,2,3,4,5,6,7,8,9]\n",
    "\n",
    "insertionSort(nums)\n",
    "insertionSort(nums2)\n",
    "print(nums)\n",
    "print(nums2)"
   ]
  },
  {
   "cell_type": "markdown",
   "metadata": {},
   "source": [
    "## Merge Sort"
   ]
  },
  {
   "cell_type": "markdown",
   "metadata": {},
   "source": [
    "#### How it Works"
   ]
  },
  {
   "cell_type": "code",
   "execution_count": 11,
   "metadata": {},
   "outputs": [
    {
     "name": "stdout",
     "output_type": "stream",
     "text": [
      "[3, 5, 9, 11, 22, 44, 46, 65, 78]\n"
     ]
    }
   ],
   "source": [
    "# step1 : split in half until you cant\n",
    "# step2 : from left to right, start merging\n",
    "# step3 : while merging, place each item into the correct position within the merged group\n",
    "# step4 : repeat\n",
    "def mergeSort(nums):\n",
    "    if len(nums) > 1:\n",
    "        mid = len(nums)//2\n",
    "        lefthalf = nums[:mid]\n",
    "        righthalf = nums[mid:]\n",
    "\n",
    "        # recursively call mergeSort to preform splits if needed\n",
    "        mergeSort(lefthalf)\n",
    "        mergeSort(righthalf)\n",
    "\n",
    "        # create index pointers to keep track of position\n",
    "        i, j, k = 0, 0, 0\n",
    "\n",
    "        # step2:\n",
    "        # compare left and right halves\n",
    "        while i < len(lefthalf) and j < len(righthalf):\n",
    "            if lefthalf[i] < righthalf[j]:\n",
    "                nums[k] = lefthalf[i]\n",
    "                i+=1\n",
    "            else:\n",
    "                nums[k] = righthalf[j]\n",
    "                j+=1\n",
    "            k+=1\n",
    "        \n",
    "        #step3:\n",
    "        # when one side is done, fill in the rest into its correct position\n",
    "        while i < len(lefthalf):\n",
    "            nums[k] = lefthalf[i]\n",
    "            i+=1\n",
    "            k+=1\n",
    "        while j < len(righthalf):\n",
    "            nums[k] = righthalf[j]\n",
    "            j+=1\n",
    "            k+=1\n",
    "\n",
    "    else:\n",
    "        return nums\n",
    "\n",
    "nums = [3,5,46,78,9,65,44,22,11]\n",
    "mergeSort(nums)\n",
    "print(nums)"
   ]
  },
  {
   "cell_type": "markdown",
   "metadata": {},
   "source": [
    "# Binary Search\n",
    "\n",
    "The Binary Search algorithm works by finding the number in the middle of a given array and comparing it to the target. Given that the array is sorted\n",
    "\n",
    "* The worst case run time for this algorithm is `O(log(n))`"
   ]
  },
  {
   "cell_type": "code",
   "execution_count": 12,
   "metadata": {},
   "outputs": [
    {
     "data": {
      "text/plain": [
       "'I found your match at index 2'"
      ]
     },
     "execution_count": 12,
     "metadata": {},
     "output_type": "execute_result"
    }
   ],
   "source": [
    "nums = [11,22,33,44,55,66,77,88,99,111,222,333,444,555]\n",
    "def binarySearch(nums, target):\n",
    "    left = 0\n",
    "    right = len(nums)-1\n",
    "    while left<=right:\n",
    "        mid = (left+right)//2\n",
    "        potentialMatch = nums[mid]\n",
    "        if target == potentialMatch:\n",
    "            return f'I found your match at index {mid}'\n",
    "        elif target < potentialMatch:\n",
    "            right = mid - 1\n",
    "        else:\n",
    "            left = mid + 1\n",
    "    return f'What you are looking for is not in this collection'\n",
    "\n",
    "binarySearch(nums, 33)"
   ]
  },
  {
   "cell_type": "markdown",
   "metadata": {},
   "source": [
    "# Exercises"
   ]
  },
  {
   "cell_type": "markdown",
   "metadata": {},
   "source": [
    "### Exercise #1 <br>\n",
    "<p>Reverse the list below in-place using an in-place algorithm.<br>For extra credit: Reverse the strings at the same time.</p>"
   ]
  },
  {
   "cell_type": "code",
   "execution_count": 2,
   "metadata": {},
   "outputs": [
    {
     "name": "stdout",
     "output_type": "stream",
     "text": [
      "['.', 'ecnetnes', 'a', 'si', 'siht']\n"
     ]
    }
   ],
   "source": [
    "def reverse_list(words):\n",
    "    mid = len(words) // 2\n",
    "\n",
    "    for i in range(mid):\n",
    "        words[i], words[-(i+1)] = words[-(i+1)], words[i]\n",
    "        \n",
    "    for i, word in enumerate(words):\n",
    "        words[i] = word[::-1]\n",
    "\n",
    "words = ['this' , 'is', 'a', 'sentence', '.']\n",
    "reverse_list(words)\n",
    "print(words)\n"
   ]
  },
  {
   "cell_type": "markdown",
   "metadata": {},
   "source": [
    "### Exercise #2 <br>\n",
    "<p>Create a function that counts how many distinct words are in the string below, then outputs a dictionary with the words as the key and the value as the amount of times that word appears in the string.<br>Should output:<br>{'a': 5,<br>\n",
    " 'abstract': 1,<br>\n",
    " 'an': 3,<br>\n",
    " 'array': 2, ... etc...</p>"
   ]
  },
  {
   "cell_type": "code",
   "execution_count": 3,
   "metadata": {},
   "outputs": [
    {
     "name": "stdout",
     "output_type": "stream",
     "text": [
      "{'In': 1, 'computing,': 1, 'a': 4, 'hash': 4, 'table': 2, 'map': 2, 'is': 1, 'data': 2, 'structure': 2, 'which': 2, 'implements': 1, 'an': 3, 'associative': 1, 'array': 2, 'abstract': 1, 'type,': 1, 'that': 1, 'can': 2, 'keys': 1, 'to': 2, 'values.': 1, 'A': 1, 'uses': 1, 'function': 1, 'compute': 1, 'index': 1, 'into': 1, 'of': 1, 'buckets': 1, 'or': 1, 'slots': 1, 'from': 1, 'the': 1, 'desired': 1, 'value': 1, 'be': 1, 'found': 1}\n"
     ]
    }
   ],
   "source": [
    "def count_words(sentence):\n",
    "    count = {}\n",
    "    words = sentence.split()\n",
    "\n",
    "    for word in words:\n",
    "        if word not in count:\n",
    "            count[word] = 1\n",
    "        else:\n",
    "            count[word] += 1\n",
    "    return count\n",
    "\n",
    "a_text = 'In computing, a hash table hash map is a data structure which implements an associative array abstract data type, a structure that can map keys to values. A hash table uses a hash function to compute an index into an array of buckets or slots from which the desired value can be found'\n",
    "count = count_words(a_text)\n",
    "print(count)\n"
   ]
  },
  {
   "cell_type": "markdown",
   "metadata": {},
   "source": [
    "## Exercise #3\n",
    "\n",
    "Write a program to implement a Linear Search Algorithm. Also in a comment, write the Time Complexity of the following algorithm.\n",
    "\n",
    "#### Hint: Linear Searching will require searching a list for a given number. "
   ]
  },
  {
   "cell_type": "code",
   "execution_count": 7,
   "metadata": {},
   "outputs": [
    {
     "name": "stdout",
     "output_type": "stream",
     "text": [
      "Value 44 found at index 3\n"
     ]
    }
   ],
   "source": [
    "# Time complexity for this algorithm is O(n)\n",
    "def linear_search(list1, value):\n",
    "    for i, element in enumerate(list1):\n",
    "        if element == value:\n",
    "            return i\n",
    "    return -1\n",
    "\n",
    "list1 = [11,22,33,44,55,66,77,88,99]\n",
    "value = 44\n",
    "\n",
    "index = linear_search(list1, value)\n",
    "print(f'Value {value} found at index {index}')\n"
   ]
  }
 ],
 "metadata": {
  "kernelspec": {
   "display_name": "Python 3",
   "language": "python",
   "name": "python3"
  },
  "language_info": {
   "codemirror_mode": {
    "name": "ipython",
    "version": 3
   },
   "file_extension": ".py",
   "mimetype": "text/x-python",
   "name": "python",
   "nbconvert_exporter": "python",
   "pygments_lexer": "ipython3",
   "version": "3.10.8"
  },
  "vscode": {
   "interpreter": {
    "hash": "d7fdfc42e7a38eefec87499dcd858b4684f2a6e4afbdd26e76fe3b6224f5b4a8"
   }
  }
 },
 "nbformat": 4,
 "nbformat_minor": 2
}
